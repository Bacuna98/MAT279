{
 "cells": [
  {
   "cell_type": "markdown",
   "metadata": {},
   "source": [
    "<center><img src=\"data:image/png;base64,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\" title=\"title text\" /></center>\n"
   ]
  },
  {
   "cell_type": "markdown",
   "metadata": {},
   "source": [
    "# Tarea 5 de Optimización No Lineal (MAT-279) - Segundo semestre de 2022"
   ]
  },
  {
   "cell_type": "markdown",
   "metadata": {},
   "source": [
    "En aplicaciones relacionadas con machine learning, se dispone de una serie de datos $\\{(w_i, y_i) : i \\in I\\}$ con los cuales nos interesa ajustar un modelo para explicar la variable $Y$ en términos de $W$, usualmente de manera lineal (i.e. $Y \\sim X^TW)$. En general, estos problemas se pueden escribir de la forma\n",
    "\n",
    "$$\\text{Minimizar} \\;\\; F(W) := \\sum_{i \\in I} f_{i}(W) + \\lambda \\mathcal{R}(W)\\; \\; \\text{sobre todos los W} \\in \\mathbb{R}^{d},$$\n",
    "donde $f_i$ representa el costo de utilizar el $i$-ésimo dato, y $\\mathcal{R}$ es una función de regularización para mantener\n",
    "la simpleza del modelo. En este problema, se piden estudiar dos modelos:\n",
    "\n",
    "$\\textbf{Mínimos cuadrados: } f_i(x) = (y_i - x^Tw_i)^2, y \\; \\mathcal{R} \\equiv 0.$\n",
    "\n",
    "$\\textbf{Ridge: } f_i(x) = (y_i - x^Tw_i)^2, y \\; \\mathcal{R}(x) = \\| \\cdot \\|_2.$\n",
    "\n",
    "A continuación se desarrollaran los problemas descritos en la tarea.\n",
    "\n"
   ]
  },
  {
   "cell_type": "markdown",
   "metadata": {},
   "source": [
    "### 1.- Justificar la convexidad de estos problemas."
   ]
  },
  {
   "cell_type": "markdown",
   "metadata": {},
   "source": [
    "Sea $\\lambda \\in \\mathbb{R}$, entonces $g(x) = \\lambda\\| x \\|_2$ es una función convexa, pues es $\\| \\cdot \\|_2$ lo es. Sea además $h(x) = x^2, \\eta_i(x) =  y_i - x^Tw_i$. Notemos que $h$ es una función convexa y $\\eta_i$ una función afín para todo $i \\in I$. Luego, composición de función convexa con una función afín, es una función convexa. Esto es\n",
    "\n",
    "\\begin{align}\n",
    "    f_{i}(x) &= (y_i - x_i^Tw)^2 \\\\\n",
    "    &= h (\\eta_i(x)) \\\\\n",
    "    &= (h \\circ \\eta_i) (x)\n",
    "\\end{align}\n",
    "\n",
    "Finalmente, suma de funciones convexas es función convexa. Es decir\n",
    "\\begin{align}\n",
    "    F(x) &= \\sum_{i \\in I} f_{i}(x) + \\lambda \\mathcal{R}(x) \\\\\n",
    "    &= \\sum_{i \\in I} (h \\circ \\eta_i)(x) + g(x) \\\\\n",
    "    &= \\sum_{i \\in I} (h \\circ \\eta_i + g)(x)\n",
    "\\end{align}\n",
    "es una función convexa.\n",
    "\n",
    "Observación: Si $\\lambda = 0$, entonces $g \\equiv 0$."
   ]
  },
  {
   "cell_type": "markdown",
   "metadata": {},
   "source": [
    "2.- Implementar el $\\textbf{Método del gradiente}$ descrito en clases (Apunte, pág.40). Su rutina debe considerar como entradas $X, W, \\lambda$ y debe entregar el vector de coeficientes óptimos $x^{*}$. Considere $\\alpha, \\beta \\approx 0,8$. Considere los datos en $\\textbf{data1.csv}$, correspondientes a las variaciones de una superficie y sometida a un sistema de fuerzas que la deforman, y una colección de variables que representan los materiales presentes en esta superficie $x_1,\\ldots, x_{15}$."
   ]
  },
  {
   "cell_type": "code",
   "execution_count": 107,
   "metadata": {},
   "outputs": [],
   "source": [
    "import numpy as np\n",
    "import pandas as pd\n",
    "import matplotlib.pyplot as plt\n",
    "from IPython.display import clear_output"
   ]
  },
  {
   "cell_type": "code",
   "execution_count": 216,
   "metadata": {},
   "outputs": [],
   "source": [
    "def funcion_minimos_cuadrados(x, Y, W, lamb):\n",
    "    return np.linalg.norm(Y-W@x)**2\n",
    "\n",
    "def funcion_ridge(x, Y, W, lamb):\n",
    "    return np.linalg.norm(Y-W@x)**2 + (lamb * np.linalg.norm(x))\n",
    "    \n",
    "def gradiente_funcion_minimos_cuadrados(x, Y, W, lamb):\n",
    "    return -2*W.T @ (Y - W @ x)\n",
    "    \n",
    "def gradiente_funcion_ridge(x, Y, W, lamb):\n",
    "    return (-2*W.T @ (Y - W @ x)) + (lamb * x / np.linalg.norm(x))\n",
    "\n",
    "def gammaf(x, Y, W, lamb, alpha, beta, f, grad_f):\n",
    "    G_f = grad_f(x, Y, W, lamb)\n",
    "    d = -G_f\n",
    "\n",
    "    k = 0\n",
    "    while not (f(x + (beta**k) * d, Y, W, lamb) - f(x, Y, W, lamb)) <= -(alpha * (beta**k)*(np.linalg.norm(d)**2)):\n",
    "        k +=1\n",
    "        \n",
    "    return beta ** k\n"
   ]
  },
  {
   "cell_type": "code",
   "execution_count": 217,
   "metadata": {},
   "outputs": [],
   "source": [
    "def gradient_method(x, Y, W, lamb, tol, alpha, beta, funcion, max_iter, reporte):\n",
    "    if funcion == 'minimos cuadrados':\n",
    "        f = funcion_minimos_cuadrados\n",
    "        grad_f = gradiente_funcion_minimos_cuadrados\n",
    "    else:\n",
    "        f = funcion_ridge\n",
    "        grad_f = gradiente_funcion_ridge\n",
    "    \n",
    "    g = grad_f(x, Y, W, lamb)\n",
    "    norm = np.linalg.norm(g)\n",
    "    i = 1\n",
    "    while norm >= tol and i<=max_iter:\n",
    "        print(f\"iteraciones = {i}, norma = {norm}, valor funcion = {f(x, Y, W, lamb)}\")\n",
    "        d = -grad_f(x, Y, W, lamb)\n",
    "        gamma = gammaf(x, Y, W, lamb, alpha, beta, f, grad_f)   \n",
    "        \n",
    "        if (x == (x+gamma*d)).all():\n",
    "            i +=1\n",
    "            break\n",
    "        x = x + gamma * d\n",
    "        norm = np.linalg.norm(grad_f(x, Y, W, lamb))\n",
    "        \n",
    "        if reporte == 'no':\n",
    "            clear_output(wait=True)\n",
    "        i += 1\n",
    "        \n",
    "    print(f\"iteraciones: {i-1}\")\n",
    "    return x, f(x, Y, W, lamb)\n",
    "    "
   ]
  },
  {
   "cell_type": "code",
   "execution_count": 218,
   "metadata": {},
   "outputs": [],
   "source": [
    "data = pd.read_csv(\"data1.csv\", sep = \";\")\n",
    "Y = data[[\"y\"]].values\n",
    "W = data.drop(\"y\", axis = 1).values\n",
    "x = np.random.rand(W.shape[1], 1) / 1e12"
   ]
  },
  {
   "cell_type": "code",
   "execution_count": 219,
   "metadata": {},
   "outputs": [],
   "source": [
    "W_nuevo = W / np.linalg.norm(W, axis = 0)\n",
    "Y_nuevo = Y / np.linalg.norm(Y, axis = 0)"
   ]
  },
  {
   "cell_type": "code",
   "execution_count": 220,
   "metadata": {},
   "outputs": [
    {
     "name": "stdout",
     "output_type": "stream",
     "text": [
      "iteraciones: 560\n"
     ]
    },
    {
     "data": {
      "text/plain": [
       "(array([[ 3.52199005],\n",
       "        [-1.88084583],\n",
       "        [-2.49938971],\n",
       "        [-1.62433419],\n",
       "        [-0.57120279],\n",
       "        [ 0.24898608],\n",
       "        [ 0.75987663],\n",
       "        [ 0.99313938],\n",
       "        [ 1.00620477],\n",
       "        [ 0.8547428 ],\n",
       "        [ 0.58504365],\n",
       "        [ 0.23327904],\n",
       "        [-0.17313339],\n",
       "        [-0.61376427],\n",
       "        [-1.073563  ]]),\n",
       " 0.03650707129165554)"
      ]
     },
     "execution_count": 220,
     "metadata": {},
     "output_type": "execute_result"
    }
   ],
   "source": [
    "gradient_method(x, Y_nuevo, W_nuevo, 0, 1e-2, 0.8, 0.8, 'minimos cuadrados', 1000, 'no')"
   ]
  },
  {
   "cell_type": "code",
   "execution_count": 221,
   "metadata": {},
   "outputs": [
    {
     "name": "stdout",
     "output_type": "stream",
     "text": [
      "iteraciones: 560\n"
     ]
    },
    {
     "data": {
      "text/plain": [
       "(array([[ 3.52199005],\n",
       "        [-1.88084583],\n",
       "        [-2.49938971],\n",
       "        [-1.62433419],\n",
       "        [-0.57120279],\n",
       "        [ 0.24898608],\n",
       "        [ 0.75987663],\n",
       "        [ 0.99313938],\n",
       "        [ 1.00620477],\n",
       "        [ 0.8547428 ],\n",
       "        [ 0.58504365],\n",
       "        [ 0.23327904],\n",
       "        [-0.17313339],\n",
       "        [-0.61376427],\n",
       "        [-1.073563  ]]),\n",
       " 0.03650707129165554)"
      ]
     },
     "execution_count": 221,
     "metadata": {},
     "output_type": "execute_result"
    }
   ],
   "source": [
    "gradient_method(x, Y_nuevo, W_nuevo, 0, 1e-2, 0.8, 0.8, 'ridge', 1000, 'no')"
   ]
  },
  {
   "cell_type": "markdown",
   "metadata": {},
   "source": [
    "### 3.-Estimar los coeficientes para los dos modelos con $\\lambda = 1$. Reporte las primeras $10$ iteraciones de su método y compare los coeficientes correspondientes."
   ]
  },
  {
   "cell_type": "markdown",
   "metadata": {},
   "source": [
    "### Minimos cuadrados"
   ]
  },
  {
   "cell_type": "code",
   "execution_count": 222,
   "metadata": {},
   "outputs": [
    {
     "name": "stdout",
     "output_type": "stream",
     "text": [
      "iteraciones = 1, norma = 4.013056222915197, valor funcion = 1.0000000000083036\n",
      "iteraciones = 2, norma = 2.451196067353933, valor funcion = 0.8132500784174851\n",
      "iteraciones = 3, norma = 1.522687710466218, valor funcion = 0.7432301688398374\n",
      "iteraciones = 4, norma = 0.9845690405355183, valor funcion = 0.7158737915496529\n",
      "iteraciones = 5, norma = 0.6242873488201849, valor funcion = 0.7018756091265106\n",
      "iteraciones = 6, norma = 0.44537564593920514, valor funcion = 0.6930851595739813\n",
      "iteraciones = 7, norma = 0.6310187115682274, valor funcion = 0.6589480241117572\n",
      "iteraciones = 8, norma = 0.4453759894454544, valor funcion = 0.6516053726174469\n",
      "iteraciones = 9, norma = 0.4311809479662583, valor funcion = 0.6402570018276712\n",
      "iteraciones = 10, norma = 0.4497414086999357, valor funcion = 0.6271095185718546\n",
      "iteraciones: 10\n"
     ]
    }
   ],
   "source": [
    "f1 = gradient_method(x, Y_nuevo, W_nuevo, 1, 1e-2, 0.8, 0.8, 'minimos cuadrados', 10, 'si')"
   ]
  },
  {
   "cell_type": "code",
   "execution_count": 223,
   "metadata": {},
   "outputs": [
    {
     "name": "stdout",
     "output_type": "stream",
     "text": [
      "coeficientes para el modelo de minimos cuadros con lambda = 1: \n",
      " [[ 0.10107024]\n",
      " [-0.0442518 ]\n",
      " [-0.10203365]\n",
      " [-0.11544264]\n",
      " [-0.10875874]\n",
      " [-0.09377083]\n",
      " [-0.07604284]\n",
      " [-0.05816413]\n",
      " [-0.04129393]\n",
      " [-0.02589557]\n",
      " [-0.01209301]\n",
      " [ 0.0001519 ]\n",
      " [ 0.01094998]\n",
      " [ 0.0204392 ]\n",
      " [ 0.02876194]]\n"
     ]
    }
   ],
   "source": [
    "print(f\"coeficientes para el modelo de minimos cuadros con lambda = 1: \\n {f1[0]}\")"
   ]
  },
  {
   "cell_type": "markdown",
   "metadata": {},
   "source": [
    "### Ridge"
   ]
  },
  {
   "cell_type": "code",
   "execution_count": 224,
   "metadata": {},
   "outputs": [
    {
     "name": "stdout",
     "output_type": "stream",
     "text": [
      "iteraciones = 1, norma = 4.900657960569897, valor funcion = 1.0000000000107063\n",
      "iteraciones = 2, norma = 3.061838661303225, valor funcion = 0.999999999992207\n",
      "iteraciones = 3, norma = 2.0675232025769468, valor funcion = 0.910994575776546\n",
      "iteraciones = 4, norma = 1.2706401129549187, valor funcion = 0.8613607785479689\n",
      "iteraciones = 5, norma = 0.8006228067144593, valor funcion = 0.8424494909319439\n",
      "iteraciones = 6, norma = 0.5249766870805673, valor funcion = 0.8348388782941959\n",
      "iteraciones = 7, norma = 0.3290220049204289, valor funcion = 0.8308514954499967\n",
      "iteraciones = 8, norma = 0.21610053454245917, valor funcion = 0.8288771057438403\n",
      "iteraciones = 9, norma = 0.1433770931186735, valor funcion = 0.8275479145329336\n",
      "iteraciones = 10, norma = 0.09477158681787891, valor funcion = 0.8267987903042637\n",
      "iteraciones: 10\n"
     ]
    }
   ],
   "source": [
    "f2 = gradient_method(x, Y_nuevo, W_nuevo, 1, 1e-2, 0.8, 0.8, 'ridge', 10, 'si')"
   ]
  },
  {
   "cell_type": "code",
   "execution_count": 225,
   "metadata": {},
   "outputs": [
    {
     "name": "stdout",
     "output_type": "stream",
     "text": [
      "coeficientes para el modelo de ridge con lambda = 1: \n",
      " [[ 0.10107024]\n",
      " [-0.0442518 ]\n",
      " [-0.10203365]\n",
      " [-0.11544264]\n",
      " [-0.10875874]\n",
      " [-0.09377083]\n",
      " [-0.07604284]\n",
      " [-0.05816413]\n",
      " [-0.04129393]\n",
      " [-0.02589557]\n",
      " [-0.01209301]\n",
      " [ 0.0001519 ]\n",
      " [ 0.01094998]\n",
      " [ 0.0204392 ]\n",
      " [ 0.02876194]]\n"
     ]
    }
   ],
   "source": [
    "print(f\"coeficientes para el modelo de ridge con lambda = 1: \\n {f1[0]}\")"
   ]
  },
  {
   "cell_type": "code",
   "execution_count": 235,
   "metadata": {},
   "outputs": [
    {
     "data": {
      "image/png": "[encoded data removed]",
      "text/plain": [
       "<Figure size 432x432 with 1 Axes>"
      ]
     },
     "metadata": {
      "needs_background": "light"
     },
     "output_type": "display_data"
    },
    {
     "data": {
      "text/plain": [
       "<Figure size 288x288 with 0 Axes>"
      ]
     },
     "metadata": {},
     "output_type": "display_data"
    }
   ],
   "source": [
    "f1_n = f1[0].reshape((15))\n",
    "f2_n = f2[0].reshape((15))\n",
    "\n",
    "t = np.arange(15)\n",
    "width= 0.25\n",
    "\n",
    "plt.rcParams[\"figure.figsize\"] = (6, 6)\n",
    "plt.bar(z-width/2, f1_n, width=width, label = \"minimos cuadrados\")\n",
    "plt.bar(z+width/2, f2_n, width=width, label = \"ridge\")\n",
    "plt.legend(loc='best')\n",
    "plt.title(\"Comparación de coeficientes\")\n",
    "plt.xlabel(\"Coeficientes\")\n",
    "plt.ylabel(\"Magnitud\")\n",
    "\n",
    "plt.figure(figsize=(4,4))\n",
    "plt.show()"
   ]
  },
  {
   "cell_type": "markdown",
   "metadata": {},
   "source": [
    "### 4.- Estimar la regresión Ridge con parámetros $\\lambda \\in  \\{0,01; 0,1; 1; 10; 1000\\}$. Comparar las soluciones obtenidas y realizar un gráfico que muestre la diferencia en magnitud de los coeficientes $x$."
   ]
  },
  {
   "cell_type": "code",
   "execution_count": 114,
   "metadata": {},
   "outputs": [
    {
     "name": "stdout",
     "output_type": "stream",
     "text": [
      "iteraciones: 496\n"
     ]
    }
   ],
   "source": [
    "g1 = gradient_method(x, Y_nuevo, W_nuevo, 0.01, 1e-2, 0.8, 0.8, 'ridge', 1000, 'no')"
   ]
  },
  {
   "cell_type": "code",
   "execution_count": 115,
   "metadata": {},
   "outputs": [
    {
     "name": "stdout",
     "output_type": "stream",
     "text": [
      "iteraciones: 141\n"
     ]
    }
   ],
   "source": [
    "g2 = gradient_method(x, Y_nuevo, W_nuevo, 0.1, 1e-2, 0.8, 0.8, 'ridge', 1000, 'no')"
   ]
  },
  {
   "cell_type": "code",
   "execution_count": 116,
   "metadata": {},
   "outputs": [
    {
     "name": "stdout",
     "output_type": "stream",
     "text": [
      "iteraciones: 15\n"
     ]
    }
   ],
   "source": [
    "g3 = gradient_method(x, Y_nuevo, W_nuevo, 1, 1e-2, 0.8, 0.8, 'ridge', 1000, 'no')"
   ]
  },
  {
   "cell_type": "code",
   "execution_count": 117,
   "metadata": {},
   "outputs": [
    {
     "name": "stdout",
     "output_type": "stream",
     "text": [
      "iteraciones = 9, norma = 5.987443369144022, valor funcion = 1.0\n",
      "iteraciones: 9\n"
     ]
    }
   ],
   "source": [
    "g4 = gradient_method(x, Y_nuevo, W_nuevo, 10, 1e-2, 0.8, 0.8, 'ridge', 1000, 'no')"
   ]
  },
  {
   "cell_type": "code",
   "execution_count": 118,
   "metadata": {},
   "outputs": [
    {
     "name": "stdout",
     "output_type": "stream",
     "text": [
      "iteraciones = 8, norma = 1003.2996437912446, valor funcion = 1.0\n",
      "iteraciones: 8\n"
     ]
    }
   ],
   "source": [
    "g5 = gradient_method(x, Y_nuevo, W_nuevo, 1000, 1e-2, 0.8, 0.8, 'ridge', 1000, 'no')"
   ]
  },
  {
   "cell_type": "code",
   "execution_count": 245,
   "metadata": {},
   "outputs": [
    {
     "name": "stdout",
     "output_type": "stream",
     "text": [
      "Solución con lambda 0.01 -----> f(x) = 0.09470988058215138\n",
      "Solución con lambda 0.1 -----> f(x) = 0.4114662779617705\n",
      "Solución con lambda 1 -----> f(x) = 0.8261686494730918\n",
      "Solución con lambda 10 -----> f(x) = 1.0\n",
      "Solución con lambda 1000 -----> f(x) = 1.0\n"
     ]
    }
   ],
   "source": [
    "print(f\"Solución con lambda 0.01 -----> f(x) = {g1[1]}\\nSolución con lambda 0.1 -----> f(x) = {g2[1]}\")\n",
    "print(f\"Solución con lambda 1 -----> f(x) = {g3[1]}\\nSolución con lambda 10 -----> f(x) = {g4[1]}\")\n",
    "print(f\"Solución con lambda 1000 -----> f(x) = {g5[1]}\")"
   ]
  },
  {
   "cell_type": "code",
   "execution_count": 128,
   "metadata": {},
   "outputs": [],
   "source": [
    "g1_n = g1[0].reshape((15))\n",
    "g2_n = g2[0].reshape((15))\n",
    "g3_n = g3[0].reshape((15))\n",
    "g4_n = g4[0].reshape((15))\n",
    "g5_n = g5[0].reshape((15))"
   ]
  },
  {
   "cell_type": "code",
   "execution_count": 236,
   "metadata": {},
   "outputs": [
    {
     "data": {
      "image/png": "[encoded data removed]",
      "text/plain": [
       "<Figure size 576x576 with 1 Axes>"
      ]
     },
     "metadata": {
      "needs_background": "light"
     },
     "output_type": "display_data"
    },
    {
     "data": {
      "text/plain": [
       "<Figure size 288x288 with 0 Axes>"
      ]
     },
     "metadata": {},
     "output_type": "display_data"
    }
   ],
   "source": [
    "z = np.arange(15)\n",
    "width= 0.18\n",
    "\n",
    "plt.rcParams[\"figure.figsize\"] = (8, 8)\n",
    "plt.bar(z-2*width, g1_n, width=width, label = \"lambda = 0.01\")\n",
    "plt.bar(z-width, g2_n, width=width, label = \"lambda = 0.1\")\n",
    "plt.bar(z, g3_n, width=width, label = \"lambda = 1\")\n",
    "plt.bar(z+width, g4_n, width=width, label = \"lambda = 10\")\n",
    "plt.bar(z+2*width, g5_n, width=width, label = \"lambda = 1000\")\n",
    "plt.legend(loc='best')\n",
    "plt.title(\"Comparación de coeficientes\")\n",
    "plt.xlabel(\"Coeficientes\")\n",
    "plt.ylabel(\"Magnitud\")\n",
    "plt.figure(figsize=(4,4))\n",
    "plt.show()"
   ]
  }
 ],
 "metadata": {
  "kernelspec": {
   "display_name": "Python 3",
   "language": "python",
   "name": "python3"
  },
  "language_info": {
   "codemirror_mode": {
    "name": "ipython",
    "version": 3
   },
   "file_extension": ".py",
   "mimetype": "text/x-python",
   "name": "python",
   "nbconvert_exporter": "python",
   "pygments_lexer": "ipython3",
   "version": "3.7.8"
  }
 },
 "nbformat": 4,
 "nbformat_minor": 4
}
