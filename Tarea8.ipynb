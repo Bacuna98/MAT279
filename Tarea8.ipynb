{
 "cells": [
  {
   "cell_type": "markdown",
   "metadata": {},
   "source": [
    "<h1><center>Tarea 8</center></h1>\n",
    "<h2><center> Optimización No Lineal (MAT-279)</center></h2>"
   ]
  },
  {
   "cell_type": "markdown",
   "metadata": {},
   "source": [
    "En el análisis de datos estadísticos, es común encontrar tablas con grandes cantidades de características sobre un individuo. En esta tarea se tratará el problema de la regresión logística, donde se utilizará el conjunto de datos descrito en"
   ]
  },
  {
   "cell_type": "markdown",
   "metadata": {},
   "source": [
    "[https://archive.ics.uci.edu/ml/machine-learning-databases/ionosphere/](https://archive.ics.uci.edu/ml/machine-learning-databases/ionosphere/)"
   ]
  },
  {
   "cell_type": "markdown",
   "metadata": {},
   "source": [
    "Para introducir la regresión logística, se requiere introducir notación. Sea $Y$ una variable aleatoria con valores en $\\{0, 1\\}$ y sea $X$ un vector aleatorio $p$-dimensional de covariables. Una forma de modelar $Y$ utilizando la información de $X$ y la naturaleza dicotómica de $Y$, es mediante la siguiente probabilidad\n",
    "$$p(x) = \\mathbb{P}(Y = 1 | X = x). $$\n",
    "\n",
    "Es común introducir modelos paramétricos para modelar $p(x)$, digamos $p(x) = p_0(x, \\beta)$. El modelo de regresión logística consiste en utilizar la función logística como modelo paramétrico, es decir:\n",
    "$$p_0(x, \\beta) = \\frac{1}{1+exp\\{-x^T \\beta\\}}.$$\n",
    "\n",
    "En la práctica, el vector de parámetros $\\beta$ no se observa y se debe estimar desde las observaciones. En esta tarea procederemos mediante el método de máxima verosimilitud, que consiste en lo siguiente: sean $y_i$ y $x_i$ las observaciones de $Y$ y $X$ del $i$-ésimo individuo, respectivamente. El estimador de máxima\n",
    "verosimilitud se obtiene mediante la resolución del siguiente problema de minimización:\n",
    "\\begin{equation}\n",
    "    \\min_{\\beta \\in \\mathbb{R}^{d}} l(\\beta) := -\\left(\\sum_{i=1}^{N} y_{i}ln(p_0(x_i,\\beta)) + (1-y_i)ln(1-p_0(x_i,\\beta))\\right).\n",
    "\\end{equation}\n",
    "Los métodos numéricos tradicionales suelen fallar cuando el vector de parémetros tiene una dimensión muy grande. Es en este contexto que se suele resolver el problema anterior considerando alguna penalización:\n",
    "\\begin{equation}\n",
    "    \\min_{\\beta \\in \\mathbb{R}^d} l(\\beta) + \\varphi_{\\lambda}(\\beta).\n",
    "\\end{equation}\n"
   ]
  },
  {
   "cell_type": "markdown",
   "metadata": {},
   "source": [
    "A continuación se crearan dos modelos de regresión logística con el objetivo de clasificar de buena manera si los retornos de radas que muestran evidencia de algún tipo de estructura en la ionosfera son \"good\" o \"bad\"."
   ]
  },
  {
   "cell_type": "markdown",
   "metadata": {},
   "source": [
    "### Librerías\n",
    "\n",
    "Las librerias a usar son:"
   ]
  },
  {
   "cell_type": "code",
   "execution_count": 89,
   "metadata": {},
   "outputs": [],
   "source": [
    "# Tratamiento de datos\n",
    "# ==============================================================================\n",
    "import pandas as pd\n",
    "import numpy as np\n",
    "\n",
    "# Gráficos\n",
    "# ==============================================================================\n",
    "import matplotlib.pyplot as plt\n",
    "\n",
    "# Preprocesado y modelado\n",
    "# ==============================================================================\n",
    "from sklearn.linear_model import LogisticRegression\n",
    "from sklearn.model_selection import train_test_split\n",
    "\n",
    "from sklearn.linear_model import Ridge, RidgeCV"
   ]
  },
  {
   "cell_type": "markdown",
   "metadata": {},
   "source": [
    "### Datos\n",
    "\n",
    "El set de datos contiene 35 columnas. Las 34 primeras son atributos predictores continuos, y la columna 35 es \"good\" o \"bad\" (variable respuesta). Esta es una tarea de clasificación binaria.\n"
   ]
  },
  {
   "cell_type": "code",
   "execution_count": 83,
   "metadata": {},
   "outputs": [
    {
     "data": {
      "text/html": [
       "<div>\n",
       "<style scoped>\n",
       "    .dataframe tbody tr th:only-of-type {\n",
       "        vertical-align: middle;\n",
       "    }\n",
       "\n",
       "    .dataframe tbody tr th {\n",
       "        vertical-align: top;\n",
       "    }\n",
       "\n",
       "    .dataframe thead th {\n",
       "        text-align: right;\n",
       "    }\n",
       "</style>\n",
       "<table border=\"1\" class=\"dataframe\">\n",
       "  <thead>\n",
       "    <tr style=\"text-align: right;\">\n",
       "      <th></th>\n",
       "      <th>0</th>\n",
       "      <th>1</th>\n",
       "      <th>2</th>\n",
       "      <th>3</th>\n",
       "      <th>4</th>\n",
       "      <th>5</th>\n",
       "      <th>6</th>\n",
       "      <th>7</th>\n",
       "      <th>8</th>\n",
       "      <th>9</th>\n",
       "      <th>...</th>\n",
       "      <th>25</th>\n",
       "      <th>26</th>\n",
       "      <th>27</th>\n",
       "      <th>28</th>\n",
       "      <th>29</th>\n",
       "      <th>30</th>\n",
       "      <th>31</th>\n",
       "      <th>32</th>\n",
       "      <th>33</th>\n",
       "      <th>34</th>\n",
       "    </tr>\n",
       "  </thead>\n",
       "  <tbody>\n",
       "    <tr>\n",
       "      <th>0</th>\n",
       "      <td>1</td>\n",
       "      <td>0</td>\n",
       "      <td>0.99539</td>\n",
       "      <td>-0.05889</td>\n",
       "      <td>0.85243</td>\n",
       "      <td>0.02306</td>\n",
       "      <td>0.83398</td>\n",
       "      <td>-0.37708</td>\n",
       "      <td>1.00000</td>\n",
       "      <td>0.03760</td>\n",
       "      <td>...</td>\n",
       "      <td>-0.51171</td>\n",
       "      <td>0.41078</td>\n",
       "      <td>-0.46168</td>\n",
       "      <td>0.21266</td>\n",
       "      <td>-0.34090</td>\n",
       "      <td>0.42267</td>\n",
       "      <td>-0.54487</td>\n",
       "      <td>0.18641</td>\n",
       "      <td>-0.45300</td>\n",
       "      <td>g</td>\n",
       "    </tr>\n",
       "    <tr>\n",
       "      <th>1</th>\n",
       "      <td>1</td>\n",
       "      <td>0</td>\n",
       "      <td>1.00000</td>\n",
       "      <td>-0.18829</td>\n",
       "      <td>0.93035</td>\n",
       "      <td>-0.36156</td>\n",
       "      <td>-0.10868</td>\n",
       "      <td>-0.93597</td>\n",
       "      <td>1.00000</td>\n",
       "      <td>-0.04549</td>\n",
       "      <td>...</td>\n",
       "      <td>-0.26569</td>\n",
       "      <td>-0.20468</td>\n",
       "      <td>-0.18401</td>\n",
       "      <td>-0.19040</td>\n",
       "      <td>-0.11593</td>\n",
       "      <td>-0.16626</td>\n",
       "      <td>-0.06288</td>\n",
       "      <td>-0.13738</td>\n",
       "      <td>-0.02447</td>\n",
       "      <td>b</td>\n",
       "    </tr>\n",
       "    <tr>\n",
       "      <th>2</th>\n",
       "      <td>1</td>\n",
       "      <td>0</td>\n",
       "      <td>1.00000</td>\n",
       "      <td>-0.03365</td>\n",
       "      <td>1.00000</td>\n",
       "      <td>0.00485</td>\n",
       "      <td>1.00000</td>\n",
       "      <td>-0.12062</td>\n",
       "      <td>0.88965</td>\n",
       "      <td>0.01198</td>\n",
       "      <td>...</td>\n",
       "      <td>-0.40220</td>\n",
       "      <td>0.58984</td>\n",
       "      <td>-0.22145</td>\n",
       "      <td>0.43100</td>\n",
       "      <td>-0.17365</td>\n",
       "      <td>0.60436</td>\n",
       "      <td>-0.24180</td>\n",
       "      <td>0.56045</td>\n",
       "      <td>-0.38238</td>\n",
       "      <td>g</td>\n",
       "    </tr>\n",
       "  </tbody>\n",
       "</table>\n",
       "<p>3 rows × 35 columns</p>\n",
       "</div>"
      ],
      "text/plain": [
       "   0   1        2        3        4        5        6        7        8   \\\n",
       "0   1   0  0.99539 -0.05889  0.85243  0.02306  0.83398 -0.37708  1.00000   \n",
       "1   1   0  1.00000 -0.18829  0.93035 -0.36156 -0.10868 -0.93597  1.00000   \n",
       "2   1   0  1.00000 -0.03365  1.00000  0.00485  1.00000 -0.12062  0.88965   \n",
       "\n",
       "        9   ...       25       26       27       28       29       30  \\\n",
       "0  0.03760  ... -0.51171  0.41078 -0.46168  0.21266 -0.34090  0.42267   \n",
       "1 -0.04549  ... -0.26569 -0.20468 -0.18401 -0.19040 -0.11593 -0.16626   \n",
       "2  0.01198  ... -0.40220  0.58984 -0.22145  0.43100 -0.17365  0.60436   \n",
       "\n",
       "        31       32       33  34  \n",
       "0 -0.54487  0.18641 -0.45300   g  \n",
       "1 -0.06288 -0.13738 -0.02447   b  \n",
       "2 -0.24180  0.56045 -0.38238   g  \n",
       "\n",
       "[3 rows x 35 columns]"
      ]
     },
     "execution_count": 83,
     "metadata": {},
     "output_type": "execute_result"
    }
   ],
   "source": [
    "datos = pd.read_csv('ionosphere.data', header = None, sep =',')\n",
    "datos.head(3)"
   ]
  },
  {
   "cell_type": "markdown",
   "metadata": {},
   "source": [
    "Se codifica la variable respuesta como 1 si es \"good\" y 0 si es \"bad\", y se identifica cuantas observaciones hay de cada clase."
   ]
  },
  {
   "cell_type": "code",
   "execution_count": 84,
   "metadata": {},
   "outputs": [
    {
     "name": "stdout",
     "output_type": "stream",
     "text": [
      "Número de observaciones por clase\n",
      "1    225\n",
      "0    126\n",
      "Name: 34, dtype: int64\n",
      "\n",
      "Porcentaje de observaciones por clase\n",
      "1    64.102564\n",
      "0    35.897436\n",
      "Name: 34, dtype: float64\n"
     ]
    }
   ],
   "source": [
    "datos = datos.replace({\"g\": 1, \"b\": 0})\n",
    "\n",
    "print(\"Número de observaciones por clase\")\n",
    "print(datos[34].value_counts())\n",
    "print(\"\")\n",
    "\n",
    "print(\"Porcentaje de observaciones por clase\")\n",
    "print(100 * datos[34].value_counts(normalize=True))"
   ]
  },
  {
   "cell_type": "markdown",
   "metadata": {},
   "source": [
    "El 64.1% de los registros son buenos y el 35.9% no lo son. Un modelo de clasificación que sea útil debe de ser capaz de predecir correctamente un porcentaje de observaciones por encima del porcentaje de la clase mayoritaria. En este caso, el umbral de referencia que se tiene que superar es del 64.1%."
   ]
  },
  {
   "cell_type": "markdown",
   "metadata": {},
   "source": [
    "### Ajuste del modelo\n",
    "\n",
    "Se ajusta un modelo de regresión logística múltiple con el objetivo de predecir si los registros son buenos en función de todas las variables disponibles."
   ]
  },
  {
   "cell_type": "code",
   "execution_count": 102,
   "metadata": {},
   "outputs": [],
   "source": [
    "# División de los datos en train y test\n",
    "# ==============================================================================\n",
    "X = datos.drop(columns = 34)\n",
    "y = datos[34]\n",
    "\n",
    "X_train, X_test, y_train, y_test = train_test_split(\n",
    "                                        X,\n",
    "                                        y,\n",
    "                                        test_size   = 0.2,\n",
    "                                        random_state = 1)"
   ]
  },
  {
   "cell_type": "markdown",
   "metadata": {},
   "source": [
    "## Ridge"
   ]
  },
  {
   "cell_type": "code",
   "execution_count": 103,
   "metadata": {},
   "outputs": [],
   "source": [
    "lambdas = 10**np.linspace(10,-2,100)*0.5"
   ]
  },
  {
   "cell_type": "code",
   "execution_count": 104,
   "metadata": {},
   "outputs": [],
   "source": [
    "#Se definen las variables que se van a utilizar\n",
    "ridge = Ridge(normalize=True) #Para estandarizar las variables el parámetro \"normalice\" es verdadero.\n",
    "coefs = []\n",
    "\n",
    "#Se llena la matriz con coeificentes asociados a cada variable independiente y a cada valor de lambda\n",
    "for k in lambdas:\n",
    "    ridge.set_params(alpha = k) #se toman los valores de lambda\n",
    "    ridge.fit(X_train, y_train) #se ajusta el modelo\n",
    "    coefs.append(ridge.coef_) #Se generan los coeificientes correspondientes"
   ]
  },
  {
   "cell_type": "code",
   "execution_count": 112,
   "metadata": {},
   "outputs": [
    {
     "data": {
      "text/plain": [
       "Text(0, 0.5, 'beta')"
      ]
     },
     "execution_count": 112,
     "metadata": {},
     "output_type": "execute_result"
    },
    {
     "data": {
      "image/png": "[encoded data removed]",
      "text/plain": [
       "<Figure size 432x288 with 1 Axes>"
      ]
     },
     "metadata": {},
     "output_type": "display_data"
    }
   ],
   "source": [
    "#Grafiquemos\n",
    "ax = plt.gca()\n",
    "ax.plot(lambdas, coefs)\n",
    "ax.set_xscale('log')\n",
    "plt.axis('tight')\n",
    "plt.xlabel('lambda')\n",
    "plt.ylabel('beta')"
   ]
  },
  {
   "cell_type": "markdown",
   "metadata": {},
   "source": [
    "En este gráfico vemos que entre más grande es lambda, más cerca a cero es beta"
   ]
  },
  {
   "cell_type": "markdown",
   "metadata": {},
   "source": [
    "### Construir un modelo"
   ]
  },
  {
   "cell_type": "code",
   "execution_count": 106,
   "metadata": {},
   "outputs": [
    {
     "name": "stdout",
     "output_type": "stream",
     "text": [
      "El valor de lambda encontrado con \"cross validation\" es:  0.329\n"
     ]
    }
   ],
   "source": [
    "#Le pasamos como parámetro el vectos con los diferentes valores de lambda para que se elija la mejor con \"cross validation\"\n",
    "ridgecv = RidgeCV(alphas = lambdas, scoring = 'neg_mean_squared_error', normalize = True)\n",
    "ridgecv.fit(X_train, y_train)\n",
    "print('El valor de lambda encontrado con \"cross validation\" es: ', round(ridgecv.alpha_,3))"
   ]
  },
  {
   "cell_type": "markdown",
   "metadata": {},
   "source": [
    "Verificamos que el valor encontrado está en el vector de Lambdas"
   ]
  },
  {
   "cell_type": "code",
   "execution_count": 107,
   "metadata": {},
   "outputs": [
    {
     "data": {
      "text/plain": [
       "True"
      ]
     },
     "execution_count": 107,
     "metadata": {},
     "output_type": "execute_result"
    }
   ],
   "source": [
    "ridgecv.alpha_ in lambdas"
   ]
  },
  {
   "cell_type": "code",
   "execution_count": 108,
   "metadata": {},
   "outputs": [
    {
     "name": "stdout",
     "output_type": "stream",
     "text": [
      "0     0.325474\n",
      "1     0.000000\n",
      "2     0.161933\n",
      "3     0.070128\n",
      "4     0.154811\n",
      "5     0.072775\n",
      "6     0.097323\n",
      "7     0.124380\n",
      "8     0.069268\n",
      "9     0.059021\n",
      "10   -0.004964\n",
      "11    0.021279\n",
      "12   -0.015850\n",
      "13    0.048756\n",
      "14    0.021107\n",
      "15    0.003149\n",
      "16   -0.006325\n",
      "17    0.062935\n",
      "18   -0.028758\n",
      "19    0.002046\n",
      "20    0.042421\n",
      "21   -0.115959\n",
      "22    0.068845\n",
      "23    0.037668\n",
      "24    0.059698\n",
      "25    0.042584\n",
      "26   -0.135944\n",
      "27   -0.041937\n",
      "28    0.021366\n",
      "29    0.042238\n",
      "30    0.045893\n",
      "31   -0.005328\n",
      "32    0.003749\n",
      "33   -0.097243\n",
      "dtype: float64\n"
     ]
    }
   ],
   "source": [
    "#Se imprimen los valores de los coeficientes\n",
    "mod_ridgeCV = Ridge(alpha = ridgecv.alpha_, normalize = True)\n",
    "mod_ridgeCV.fit(X_train, y_train)\n",
    "print(pd.Series(mod_ridgeCV.coef_, index = X.columns)) #valor de los coeficientes"
   ]
  },
  {
   "cell_type": "code",
   "execution_count": 109,
   "metadata": {},
   "outputs": [
    {
     "data": {
      "image/png": "[encoded data removed]",
      "text/plain": [
       "<Figure size 432x288 with 1 Axes>"
      ]
     },
     "metadata": {},
     "output_type": "display_data"
    }
   ],
   "source": [
    "#Se grafican los valores de los coeficientes (betas).\n",
    "eje_X = range(1, len(mod_ridgeCV.coef_)+1, 1)\n",
    "plt.scatter(eje_X, mod_ridgeCV.coef_, color= 'purple')\n",
    "plt.title(\"betas\")\n",
    "plt.xlabel(\"Indices\")\n",
    "plt.ylabel(\"Valor de coeficientes\")\n",
    "plt.show()"
   ]
  },
  {
   "cell_type": "markdown",
   "metadata": {},
   "source": [
    "## Lasso"
   ]
  },
  {
   "cell_type": "code",
   "execution_count": null,
   "metadata": {},
   "outputs": [],
   "source": []
  }
 ],
 "metadata": {
  "kernelspec": {
   "display_name": "Python 3",
   "language": "python",
   "name": "python3"
  },
  "language_info": {
   "codemirror_mode": {
    "name": "ipython",
    "version": 3
   },
   "file_extension": ".py",
   "mimetype": "text/x-python",
   "name": "python",
   "nbconvert_exporter": "python",
   "pygments_lexer": "ipython3",
   "version": "3.7.8"
  }
 },
 "nbformat": 4,
 "nbformat_minor": 4
}
